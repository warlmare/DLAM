{
 "cells": [
  {
   "cell_type": "markdown",
   "metadata": {},
   "source": [
    "### Imports"
   ]
  },
  {
   "cell_type": "code",
   "execution_count": null,
   "metadata": {},
   "outputs": [],
   "source": [
    "#!pip install sgt\n",
    "#!pip install py-tlsh\n",
    "#!pip install nilsimsa\n",
    "\n",
    "from datetime import datetime\n",
    "import string\n",
    "import random\n",
    "from random import randrange\n",
    "import re\n",
    "import tlsh\n",
    "import random\n",
    "import numpy as np\n",
    "\n",
    "import torch\n",
    "import torch.nn as nn\n",
    "import torch.optim as optim\n",
    "from torch.utils.data import Dataset, DataLoader"
   ]
  },
  {
   "cell_type": "markdown",
   "metadata": {},
   "source": [
    "### Debug Functions"
   ]
  },
  {
   "cell_type": "code",
   "execution_count": null,
   "metadata": {},
   "outputs": [],
   "source": [
    "def get_hash_tensor(hash,label):\n",
    "    '''\n",
    "    takes a hash and a label of the kind [x, x] and turns them into tensors\n",
    "    '''\n",
    "    data_max = len(ALL_CHARS)\n",
    "    if label is \"anom\":\n",
    "        label = [0, 1]\n",
    "    elif(label is \"norm\"):\n",
    "        label = [1, 0]\n",
    "    else:\n",
    "        print(\"label must be norm or anom !\")\n",
    "    list_x = [hash, label]  \n",
    "    input, label = list_x\n",
    "    char_to_int = dict((c, i) for i, c in enumerate(ALL_CHARS))\n",
    "    input = [char_to_int[char] for char in hash]\n",
    "    label = torch.FloatTensor(label)\n",
    "    return torch.LongTensor(input), label"
   ]
  },
  {
   "cell_type": "code",
   "execution_count": null,
   "metadata": {},
   "outputs": [],
   "source": [
    "def tensor_float_parser(tensor_str):\n",
    "    '''\n",
    "    parse the result of a model evaluation model(input)\n",
    "    '''\n",
    "    tensor_str = str(tensor_str)\n",
    "    try:\n",
    "        pat = r'.*?\\[(.*)].*'            \n",
    "        match = re.search(pat, tensor_str)\n",
    "        target_str = match.group(1)  \n",
    "        arr = [float(i) for i in re.findall(r\"[-+]?\\d*\\.\\d+|\\d+\", target_str)]\n",
    "    except:# when the tensor_str is a label with [1. , 0.]\n",
    "        arr = [int(s) for s in tensor_str.split() if s.isdigit()]\n",
    "    return arr"
   ]
  },
  {
   "cell_type": "code",
   "execution_count": null,
   "metadata": {},
   "outputs": [],
   "source": [
    "\n",
    "def toy_result_check(list_x):\n",
    "    '''\n",
    "    takes a tensor and a label (0,1) anomalie ....... (1,0) normal...and tests them on the model\n",
    "    '''\n",
    "    custom_loader = DataLoader(list_x,1)\n",
    "    input, label = iter(custom_loader)\n",
    "    input = input.to(device)\n",
    "    result = model(input)\n",
    "    \n",
    "    arr_res = tensor_float_parser(result)\n",
    "    arr_lab = tensor_float_parser(label)\n",
    "    #case: anomalie\n",
    "    if arr_lab[0] < arr_lab[1]:\n",
    "        if arr_res[0] < arr_res[1]: #arr_lab[0] and arr_res[1] > arr_lab[1]:\n",
    "            print(\"the model identified the anomaly correctly\")\n",
    "        else:\n",
    "            print(\"Model could not identify the anomaly correctly or the label could be wrong: result{} label{}\".format(arr_res,arr_lab))   \n",
    "    #case: normal\n",
    "    elif(arr_lab[0] > arr_lab[1]):\n",
    "        if arr_res[0] > arr_res[1]: #arr_lab[0] and arr_res[1] < arr_lab[1]:\n",
    "            print(\"the model identified the normal hash correctly\")\n",
    "        else:\n",
    "            print(\"Model could not identify the normal input or the label could be wrong: result{} label{}\".format(arr_res,arr_lab))  "
   ]
  }
 ],
 "metadata": {
  "language_info": {
   "name": "python"
  },
  "orig_nbformat": 4
 },
 "nbformat": 4,
 "nbformat_minor": 2
}
